{
 "cells": [
  {
   "cell_type": "markdown",
   "metadata": {},
   "source": [
    "# Hierarchical Ensemble Classifier Examples\n",
    "\n",
    "This notebook demonstrates the key features of the Hierarchical Ensemble Classifier package."
   ]
  },
  {
   "cell_type": "code",
   "execution_count": null,
   "metadata": {},
   "outputs": [],
   "source": [
    "import numpy as np\n",
    "import pandas as pd\n",
    "import matplotlib.pyplot as plt\n",
    "from sklearn.datasets import load_iris, make_classification\n",
    "from sklearn.model_selection import train_test_split\n",
    "from sklearn.linear_model import LogisticRegression\n",
    "from sklearn.tree import DecisionTreeClassifier\n",
    "from sklearn.ensemble import RandomForestClassifier\n",
    "from sklearn.metrics import classification_report, accuracy_score\n",
    "\n",
    "from hierarchical_ensemble_classifier import (\n",
    "    HierarchicalEnsembleClassifier,\n",
    "    HierarchyBuilder,\n",
    "    create_iris_example,\n",
    "    create_hierarchy_builder_example,\n",
    "    plot_hierarchy_with_performance,\n",
    "    plot_feature_usage_heatmap\n",
    ")\n",
    "\n",
    "# Set random seed for reproducibility\n",
    "np.random.seed(42)"
   ]
  },
  {
   "cell_type": "markdown",
   "metadata": {},
   "source": [
    "## Example 1: Quick Start with Built-in Examples"
   ]
  },
  {
   "cell_type": "code",
   "execution_count": null,
   "metadata": {},
   "outputs": [],
   "source": [
    "# Run the built-in Iris example\n",
    "print(\"Running Iris Example...\")\n",
    "iris_results = create_iris_example()\n",
    "\n",
    "print(f\"Accuracy: {iris_results['accuracy']:.3f}\")\n",
    "print(\"\\nCross-validation results:\")\n",
    "print(iris_results['cv_results'])\n",
    "\n",
    "# Visualize the hierarchy\n",
    "iris_results['model'].visualize_hierarchy(figsize=(8, 6))"
   ]
  },
  {
   "cell_type": "code",
   "execution_count": null,
   "metadata": {},
   "outputs": [],
   "source": [
    "# Run the hierarchy builder example\n",
    "print(\"Running Hierarchy Builder Example...\")\n",
    "hierarchy_results = create_hierarchy_builder_example()\n",
    "\n",
    "print(f\"Accuracy: {hierarchy_results['accuracy']:.3f}\")\n",
    "print(\"\\nDiscovered hierarchical paths:\")\n",
    "for terminal_class, path in hierarchy_results['paths'].items():\n",
    "    print(f\"{terminal_class}: {' -> '.join(path)}\")\n",
    "\n",
    "# Visualize the discovered hierarchy\n",
    "hierarchy_results['hierarchy_builder'].visualize_dendrogram(figsize=(10, 6))"
   ]
  },
  {
   "cell_type": "markdown",
   "metadata": {},
   "source": [
    "## Example 2: Manual Hierarchy Construction"
   ]
  },
  {
   "cell_type": "code",
   "execution_count": null,
   "metadata": {},
   "outputs": [],
   "source": [
    "# Load Iris dataset\n",
    "iris = load_iris()\n",
    "X = pd.DataFrame(iris.data, columns=iris.feature_names)\n",
    "y = pd.Series(iris.target_names[iris.target])\n",
    "\n",
    "print(\"Dataset shape:\", X.shape)\n",
    "print(\"Classes:\", y.unique())\n",
    "print(\"Features:\", list(X.columns))\n",
    "\n",
    "# Split data\n",
    "X_train, X_test, y_train, y_test = train_test_split(\n",
    "    X, y, test_size=0.3, random_state=42, stratify=y\n",
    ")"
   ]
  },
  {
   "cell_type": "code",
   "execution_count": null,
   "metadata": {},
   "outputs": [],
   "source": [
    "# Create hierarchical classifier with manual structure\n",
    "hec = HierarchicalEnsembleClassifier(name=\"ManualIrisHEC\", verbose=True)\n",
    "\n",
    "# Add first level: sepal-based classifier\n",
    "hec.add_sub_classifier(\n",
    "    name=\"sepal_classifier\",\n",
    "    estimator=LogisticRegression(random_state=42),\n",
    "    features=[\"sepal length (cm)\", \"sepal width (cm)\"]\n",
    ")\n",
    "\n",
    "# Add second level: petal-based classifier  \n",
    "hec.add_sub_classifier(\n",
    "    name=\"petal_classifier\",\n",
    "    estimator=DecisionTreeClassifier(random_state=42),\n",
    "    features=[\"petal length (cm)\", \"petal width (cm)\"],\n",
    "    parent=\"sepal_classifier\"\n",
    ")\n",
    "\n",
    "# Add terminal classes\n",
    "for class_name in y.unique():\n",
    "    hec.add_terminal_class(class_name, parent=\"petal_classifier\")\n",
    "\n",
    "print(\"Hierarchy structure created!\")\n",
    "print(f\"Sub-classifiers: {list(hec.sub_classifiers_.keys())}\")\n",
    "print(f\"Graph nodes: {list(hec.graph_.nodes())}\")"
   ]
  },
  {
   "cell_type": "code",
   "execution_count": null,
   "metadata": {},
   "outputs": [],
   "source": [
    "# Fit the model\n",
    "hec.fit(X_train, y_train)\n",
    "\n",
    "# Make predictions\n",
    "y_pred = hec.predict(X_test)\n",
    "y_proba = hec.predict_proba(X_test)\n",
    "\n",
    "# Evaluate performance\n",
    "accuracy = accuracy_score(y_test, y_pred)\n",
    "print(f\"Test Accuracy: {accuracy:.3f}\")\n",
    "print(\"\\nClassification Report:\")\n",
    "print(classification_report(y_test, y_pred))"
   ]
  },
  {
   "cell_type": "code",
   "execution_count": null,
   "metadata": {},
   "outputs": [],
   "source": [
    "# Cross-validate sub-classifiers\n",
    "cv_results = hec.cross_validate_sub_classifiers(X_train, y_train, cv=5)\n",
    "print(\"Cross-validation results for sub-classifiers:\")\n",
    "print(cv_results)\n",
    "\n",
    "# Get feature importance\n",
    "importance_df = hec.get_feature_importance()\n",
    "print(\"\\nFeature importance:\")\n",
    "print(importance_df)"
   ]
  },
  {
   "cell_type": "code",
   "execution_count": null,
   "metadata": {},
   "outputs": [],
   "source": [
    "# Visualize the hierarchy with performance metrics\n",
    "plot_hierarchy_with_performance(hec, figsize=(10, 8), show_accuracy=True)\n",
    "\n",
    "# Plot feature usage heatmap\n",
    "plot_feature_usage_heatmap(hec, figsize=(8, 4))"
   ]
  },
  {
   "cell_type": "markdown",
   "metadata": {},
   "source": [
    "## Example 3: Automatic Hierarchy Discovery"
   ]
  },
  {
   "cell_type": "code",
   "execution_count": null,
   "metadata": {},
   "outputs": [],
   "source": [
    "# Create a more complex synthetic dataset\n",
    "X_synth, y_synth = make_classification(\n",
    "    n_samples=800,\n",
    "    n_features=25,\n",
    "    n_informative=20,\n",
    "    n_redundant=5,\n",
    "    n_classes=8,\n",
    "    n_clusters_per_class=1,\n",
    "    random_state=42\n",
    ")\n",
    "\n",
    "# Convert to pandas\n",
    "feature_names = [f'gene_{i}' for i in range(X_synth.shape[1])]\n",
    "X_synth = pd.DataFrame(X_synth, columns=feature_names)\n",
    "class_names = [f'MOA_{i}' for i in range(8)]  # Mechanism of Action classes\n",
    "y_synth = pd.Series([class_names[i] for i in y_synth])\n",
    "\n",
    "print(f\"Synthetic dataset: {X_synth.shape[0]} samples, {X_synth.shape[1]} features, {len(y_synth.unique())} classes\")\n",
    "print(f\"Classes: {list(y_synth.unique())}\")\n",
    "\n",
    "# Split data\n",
    "X_train_synth, X_test_synth, y_train_synth, y_test_synth = train_test_split(\n",
    "    X_synth, y_synth, test_size=0.3, random_state=42, stratify=y_synth\n",
    ")"
   ]
  },
  {
   "cell_type": "code",
   "execution_count": null,
   "metadata": {},
   "outputs": [],
   "source": [
    "# Build hierarchy from class profiles\n",
    "hierarchy_builder = HierarchyBuilder(linkage_method='ward', distance_metric='euclidean')\n",
    "hierarchy_builder.build_from_class_profiles(\n",
    "    X_train_synth, y_train_synth, n_components=15\n",
    ")\n",
    "\n",
    "# Visualize the dendrogram\n",
    "hierarchy_builder.visualize_dendrogram(figsize=(12, 6))\n",
    "\n",
    "# Get hierarchical paths with different clustering levels\n",
    "paths_2 = hierarchy_builder.get_paths(n_clusters=2)\n",
    "paths_3 = hierarchy_builder.get_paths(n_clusters=3)\n",
    "paths_4 = hierarchy_builder.get_paths(n_clusters=4)\n",
    "\n",
    "print(\"\\nHierarchical paths with 2 clusters:\")\n",
    "for terminal_class, path in paths_2.items():\n",
    "    print(f\"{terminal_class}: {' -> '.join(path)}\")\n",
    "    \n",
    "print(\"\\nHierarchical paths with 3 clusters:\")\n",
    "for terminal_class, path in paths_3.items():\n",
    "    print(f\"{terminal_class}: {' -> '.join(path)}\")"
   ]
  },
  {
   "cell_type": "code",
   "execution_count": null,
   "metadata": {},
   "outputs": [],
   "source": [
    "# Build HEC using discovered hierarchy (using 3 clusters)\n",
    "hec_auto = HierarchicalEnsembleClassifier(name=\"AutoHierarchyHEC\", verbose=True)\n",
    "\n",
    "# Get intermediate nodes from paths\n",
    "intermediate_nodes = set()\n",
    "for path in paths_3.values():\n",
    "    intermediate_nodes.update(path[1:-1])  # Exclude input and terminal nodes\n",
    "\n",
    "print(f\"Intermediate nodes: {sorted(intermediate_nodes)}\")\n",
    "\n",
    "# Add sub-classifiers for each intermediate node\n",
    "algorithms = [\n",
    "    LogisticRegression(random_state=42, max_iter=1000),\n",
    "    DecisionTreeClassifier(random_state=42),\n",
    "    RandomForestClassifier(n_estimators=50, random_state=42)\n",
    "]\n",
    "\n",
    "for i, node in enumerate(sorted(intermediate_nodes)):\n",
    "    # Use different feature subsets for each sub-classifier\n",
    "    start_idx = i * 8\n",
    "    end_idx = min(start_idx + 12, len(feature_names))\n",
    "    features = feature_names[start_idx:end_idx]\n",
    "    \n",
    "    # Rotate through different algorithms\n",
    "    estimator = algorithms[i % len(algorithms)]\n",
    "    \n",
    "    hec_auto.add_sub_classifier(\n",
    "        name=node,\n",
    "        estimator=estimator,\n",
    "        features=features\n",
    "    )\n",
    "    \n",
    "    print(f\"Added {node}: {type(estimator).__name__} with {len(features)} features\")\n",
    "\n",
    "# Add terminal classes\n",
    "for terminal_class in paths_3.keys():\n",
    "    path = paths_3[terminal_class]\n",
    "    parent = path[-2]  # Second to last node\n",
    "    hec_auto.add_terminal_class(terminal_class, parent=parent)"
   ]
  },
  {
   "cell_type": "code",
   "execution_count": null,
   "metadata": {},
   "outputs": [],
   "source": [
    "# Fit the automatically constructed hierarchy\n",
    "hec_auto.fit(X_train_synth, y_train_synth)\n",
    "\n",
    "# Make predictions\n",
    "y_pred_auto = hec_auto.predict(X_test_synth)\n",
    "accuracy_auto = accuracy_score(y_test_synth, y_pred_auto)\n",
    "\n",
    "print(f\"Test Accuracy (Auto Hierarchy): {accuracy_auto:.3f}\")\n",
    "print(\"\\nClassification Report:\")\n",
    "print(classification_report(y_test_synth, y_pred_auto))"
   ]
  },
  {
   "cell_type": "code",
   "execution_count": null,
   "metadata": {},
   "outputs": [],
   "source": [
    "# Cross-validate the sub-classifiers\n",
    "cv_results_auto = hec_auto.cross_validate_sub_classifiers(\n",
    "    X_train_synth, y_train_synth, cv=5\n",
    ")\n",
    "\n",
    "print(\"Cross-validation results for automatically discovered hierarchy:\")\n",
    "print(cv_results_auto)\n",
    "\n",
    "# Visualize the final hierarchy\n",
    "plot_hierarchy_with_performance(hec_auto, figsize=(12, 8), show_accuracy=True)\n",
    "\n",
    "# Show feature usage\n",
    "plot_feature_usage_heatmap(hec_auto, figsize=(12, 6))"
   ]
  },
  {
   "cell_type": "markdown",
   "metadata": {},
   "source": [
    "## Example 4: Comparison with Standard Classifiers"
   ]
  },
  {
   "cell_type": "code",
   "execution_count": null,
   "metadata": {},
   "outputs": [],
   "source": [
    "# Compare HEC with standard classifiers\n",
    "from sklearn.ensemble import RandomForestClassifier\n",
    "from sklearn.svm import SVC\n",
    "from sklearn.neighbors import KNeighborsClassifier\n",
    "from sklearn.model_selection import cross_val_score\n",
    "\n",
    "# Use the synthetic dataset\n",
    "X_compare = X_train_synth\n",
    "y_compare = y_train_synth\n",
    "\n",
    "# Standard classifiers\n",
    "classifiers = {\n",
    "    'Random Forest': RandomForestClassifier(n_estimators=100, random_state=42),\n",
    "    'SVM': SVC(random_state=42),\n",
    "    'K-NN': KNeighborsClassifier(n_neighbors=5),\n",
    "    'Logistic Regression': LogisticRegression(random_state=42, max_iter=1000)\n",
    "}\n",
    "\n",
    "# Cross-validate standard classifiers\n",
    "results_comparison = {}\n",
    "for name, clf in classifiers.items():\n",
    "    scores = cross_val_score(clf, X_compare, y_compare, cv=5, scoring='accuracy')\n",
    "    results_comparison[name] = {\n",
    "        'mean': scores.mean(),\n",
    "        'std': scores.std(),\n",
    "        'scores': scores\n",
    "    }\n",
    "\n",
    "# Add HEC results (approximate from sub-classifier CV)\n",
    "hec_mean_score = cv_results_auto['mean_score'].mean()\n",
    "results_comparison['HEC (Auto)'] = {\n",
    "    'mean': hec_mean_score,\n",
    "    'std': cv_results_auto['std_score'].mean(),\n",
    "    'scores': [hec_mean_score] * 5  # Placeholder\n",
    "}\n",
    "\n",
    "# Display comparison\n",
    "print(\"\\nClassifier Comparison (5-fold CV):\")\n",
    "print(\"-\" * 50)\n",
    "for name, result in results_comparison.items():\n",
    "    print(f\"{name:20s}: {result['mean']:.3f} ({result['std']:.3f})\")\n",
    "\n",
    "# Plot comparison\n",
    "plt.figure(figsize=(10, 6))\n",
    "names = list(results_comparison.keys())\n",
    "means = [results_comparison[name]['mean'] for name in names]\n",
    "stds = [results_comparison[name]['std'] for name in names]\n",
    "\n",
    "plt.bar(names, means, yerr=stds, capsize=5, alpha=0.7)\n",
    "plt.title('Classifier Comparison (5-fold Cross-Validation)')\n",
    "plt.ylabel('Accuracy')\n",
    "plt.xticks(rotation=45)\n",
    "plt.grid(True, alpha=0.3)\n",
    "plt.tight_layout()\n",
    "plt.show()"
   ]
  },
  {
   "cell_type": "markdown",
   "metadata": {},
   "source": [
    "## Example 5: Feature Importance Analysis"
   ]
  },
  {
   "cell_type": "code",
   "execution_count": null,
   "metadata": {},
   "outputs": [],
   "source": [
    "# Analyze feature importance across the hierarchy\n",
    "importance_df = hec_auto.get_feature_importance()\n",
    "\n",
    "print(\"Feature importance by sub-classifier:\")\n",
    "print(importance_df.head(10))\n",
    "\n",
    "# Aggregate importance by feature\n",
    "feature_importance_agg = importance_df.groupby('feature')['importance'].agg(['mean', 'std', 'count'])\n",
    "feature_importance_agg = feature_importance_agg.sort_values('mean', ascending=False)\n",
    "\n",
    "print(\"\\nTop 10 most important features (aggregated):\")\n",
    "print(feature_importance_agg.head(10))\n",
    "\n",
    "# Plot feature importance\n",
    "plt.figure(figsize=(12, 6))\n",
    "top_features = feature_importance_agg.head(15)\n",
    "plt.bar(range(len(top_features)), top_features['mean'], \n",
    "        yerr=top_features['std'], capsize=3, alpha=0.7)\n",
    "plt.xlabel('Features')\n",
    "plt.ylabel('Mean Importance')\n",
    "plt.title('Top 15 Feature Importance (Aggregated Across Sub-Classifiers)')\n",
    "plt.xticks(range(len(top_features)), top_features.index, rotation=45)\n",
    "plt.grid(True, alpha=0.3)\n",
    "plt.tight_layout()\n",
    "plt.show()"
   ]
  },
  {
   "cell_type": "markdown",
   "metadata": {},
   "source": [
    "## Summary\n",
    "\n",
    "This notebook demonstrated:\n",
    "\n",
    "1. **Quick start** with built-in example functions\n",
    "2. **Manual hierarchy construction** for domain-specific knowledge\n",
    "3. **Automatic hierarchy discovery** using the HierarchyBuilder class\n",
    "4. **Performance comparison** with standard classifiers\n",
    "5. **Feature importance analysis** across the hierarchical structure\n",
    "\n",
    "The Hierarchical Ensemble Classifier provides:\n",
    "- Flexibility in using different algorithms and features for each sub-problem\n",
    "- Interpretable decision paths\n",
    "- Automatic discovery of natural hierarchies in data\n",
    "- Integration with scikit-learn ecosystem\n",
    "- Enhanced visualization capabilities (especially with skclust integration)"
   ]
  }
 ],
 "metadata": {
  "kernelspec": {
   "display_name": "Python 3",
   "language": "python",
   "name": "python3"
  },
  "language_info": {
   "codemirror_mode": {
    "name": "ipython",
    "version": 3
   },
   "file_extension": ".py",
   "mimetype": "text/x-python",
   "name": "python",
   "nbconvert_exporter": "python",
   "pygments_lexer": "ipython3",
   "version": "3.8.5"
  }
 },
 "nbformat": 4,
 "nbformat_minor": 4
}
